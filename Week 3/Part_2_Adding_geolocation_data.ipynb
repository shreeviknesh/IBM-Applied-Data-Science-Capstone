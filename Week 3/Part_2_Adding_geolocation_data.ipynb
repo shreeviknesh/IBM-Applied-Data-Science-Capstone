{
  "nbformat": 4,
  "nbformat_minor": 0,
  "metadata": {
    "colab": {
      "name": "Adding_geolocation_data.ipynb",
      "provenance": [],
      "collapsed_sections": []
    },
    "kernelspec": {
      "name": "python3",
      "display_name": "Python 3"
    }
  },
  "cells": [
    {
      "cell_type": "markdown",
      "metadata": {
        "id": "8KXBbXuiIYX5",
        "colab_type": "text"
      },
      "source": [
        "# 1. Scraping the data from Wikipedia into a pandas DataFrame"
      ]
    },
    {
      "cell_type": "code",
      "metadata": {
        "id": "eRlPaCpSIRh_",
        "colab_type": "code",
        "colab": {}
      },
      "source": [
        "# The packages required for the exercise\n",
        "import requests\n",
        "from bs4 import BeautifulSoup\n",
        "import pandas as pd"
      ],
      "execution_count": 0,
      "outputs": []
    },
    {
      "cell_type": "code",
      "metadata": {
        "id": "I7GpC3qtIYM0",
        "colab_type": "code",
        "colab": {}
      },
      "source": [
        "# Getting the webpage from the url using requests package\n",
        "website_url = \"https://en.wikipedia.org/wiki/List_of_postal_codes_of_Canada:_M\"\n",
        "webpage = requests.get(website_url).text"
      ],
      "execution_count": 0,
      "outputs": []
    },
    {
      "cell_type": "code",
      "metadata": {
        "id": "tVy5jDgtI1uJ",
        "colab_type": "code",
        "colab": {}
      },
      "source": [
        "# This function retrieves the raw data from the webpage\n",
        "soup = BeautifulSoup(webpage, 'lxml')\n",
        "\n",
        "# Retrieving the specific table that contains the data that we require\n",
        "table = soup.find('table', {\n",
        "    'class': 'wikitable sortable'\n",
        "})"
      ],
      "execution_count": 0,
      "outputs": []
    },
    {
      "cell_type": "code",
      "metadata": {
        "id": "gZzJmkbLJHSi",
        "colab_type": "code",
        "colab": {}
      },
      "source": [
        "# Retrieving all the <tr> tags from the soup\n",
        "# Each of these tags will represent a row in our DataFrame\n",
        "rows = table.find_all('tr')[1:]\n",
        "\n",
        "# Populating an array with the values from the rows\n",
        "values = []\n",
        "for row in rows:\n",
        "  row_for_df = []\n",
        "  for val in row.find_all('td'):\n",
        "    row_for_df.append(val.contents[0].rstrip())\n",
        "\n",
        "  # Converting all the multiple values of Neighborhood from '/' separated to comma separated\n",
        "  row_for_df[2] = row_for_df[2].replace(' /', ',')\n",
        "\n",
        "  # Appending all the rows to a list called values\n",
        "  values.append(row_for_df)"
      ],
      "execution_count": 0,
      "outputs": []
    },
    {
      "cell_type": "code",
      "metadata": {
        "id": "Ezg0gVh3Jqbk",
        "colab_type": "code",
        "outputId": "0ea4827a-719f-41cc-af6b-b28005ba59f2",
        "colab": {
          "base_uri": "https://localhost:8080/",
          "height": 212
        }
      },
      "source": [
        "# Creating the DataFrame with the scraped values and with appropriate column names\n",
        "columns = ['PostalCode', 'Borough', 'Neighborhood']\n",
        "toronto_df = pd.DataFrame(values, columns = columns)\n",
        "\n",
        "\n",
        "# Printing the top 5 elements of the DataFrame\n",
        "print(f'The length of the dataframe is {len(toronto_df)}')\n",
        "toronto_df.head()"
      ],
      "execution_count": 5,
      "outputs": [
        {
          "output_type": "stream",
          "text": [
            "The length of the dataframe is 180\n"
          ],
          "name": "stdout"
        },
        {
          "output_type": "execute_result",
          "data": {
            "text/html": [
              "<div>\n",
              "<style scoped>\n",
              "    .dataframe tbody tr th:only-of-type {\n",
              "        vertical-align: middle;\n",
              "    }\n",
              "\n",
              "    .dataframe tbody tr th {\n",
              "        vertical-align: top;\n",
              "    }\n",
              "\n",
              "    .dataframe thead th {\n",
              "        text-align: right;\n",
              "    }\n",
              "</style>\n",
              "<table border=\"1\" class=\"dataframe\">\n",
              "  <thead>\n",
              "    <tr style=\"text-align: right;\">\n",
              "      <th></th>\n",
              "      <th>PostalCode</th>\n",
              "      <th>Borough</th>\n",
              "      <th>Neighborhood</th>\n",
              "    </tr>\n",
              "  </thead>\n",
              "  <tbody>\n",
              "    <tr>\n",
              "      <th>0</th>\n",
              "      <td>M1A</td>\n",
              "      <td>Not assigned</td>\n",
              "      <td></td>\n",
              "    </tr>\n",
              "    <tr>\n",
              "      <th>1</th>\n",
              "      <td>M2A</td>\n",
              "      <td>Not assigned</td>\n",
              "      <td></td>\n",
              "    </tr>\n",
              "    <tr>\n",
              "      <th>2</th>\n",
              "      <td>M3A</td>\n",
              "      <td>North York</td>\n",
              "      <td>Parkwoods</td>\n",
              "    </tr>\n",
              "    <tr>\n",
              "      <th>3</th>\n",
              "      <td>M4A</td>\n",
              "      <td>North York</td>\n",
              "      <td>Victoria Village</td>\n",
              "    </tr>\n",
              "    <tr>\n",
              "      <th>4</th>\n",
              "      <td>M5A</td>\n",
              "      <td>Downtown Toronto</td>\n",
              "      <td>Regent Park, Harbourfront</td>\n",
              "    </tr>\n",
              "  </tbody>\n",
              "</table>\n",
              "</div>"
            ],
            "text/plain": [
              "  PostalCode           Borough               Neighborhood\n",
              "0        M1A      Not assigned                           \n",
              "1        M2A      Not assigned                           \n",
              "2        M3A        North York                  Parkwoods\n",
              "3        M4A        North York           Victoria Village\n",
              "4        M5A  Downtown Toronto  Regent Park, Harbourfront"
            ]
          },
          "metadata": {
            "tags": []
          },
          "execution_count": 5
        }
      ]
    },
    {
      "cell_type": "code",
      "metadata": {
        "id": "kk34pCtFNwOl",
        "colab_type": "code",
        "outputId": "caf5ec4a-b19e-4e26-f464-1f54a90f6bf2",
        "colab": {
          "base_uri": "https://localhost:8080/",
          "height": 212
        }
      },
      "source": [
        "# Dropping all the rows that have a \"Not assigned\" Borough\n",
        "toronto_df = toronto_df[toronto_df['Borough'] != 'Not assigned']\n",
        "\n",
        "# Since many rows were dropped, we need to reset the index of the dataframe from 0 .. len(df)\n",
        "toronto_df.index = list(range(len(toronto_df)))\n",
        "\n",
        "\n",
        "# Printing the top 5 elements of the DataFrame\n",
        "print(f'The length of the dataframe is {len(toronto_df)}')\n",
        "toronto_df.head()\n",
        "\n",
        "# The entries with multiple neighborhoods are already handled while reading the data"
      ],
      "execution_count": 23,
      "outputs": [
        {
          "output_type": "stream",
          "text": [
            "The length of the dataframe is 103\n"
          ],
          "name": "stdout"
        },
        {
          "output_type": "execute_result",
          "data": {
            "text/html": [
              "<div>\n",
              "<style scoped>\n",
              "    .dataframe tbody tr th:only-of-type {\n",
              "        vertical-align: middle;\n",
              "    }\n",
              "\n",
              "    .dataframe tbody tr th {\n",
              "        vertical-align: top;\n",
              "    }\n",
              "\n",
              "    .dataframe thead th {\n",
              "        text-align: right;\n",
              "    }\n",
              "</style>\n",
              "<table border=\"1\" class=\"dataframe\">\n",
              "  <thead>\n",
              "    <tr style=\"text-align: right;\">\n",
              "      <th></th>\n",
              "      <th>PostalCode</th>\n",
              "      <th>Borough</th>\n",
              "      <th>Neighborhood</th>\n",
              "    </tr>\n",
              "  </thead>\n",
              "  <tbody>\n",
              "    <tr>\n",
              "      <th>0</th>\n",
              "      <td>M3A</td>\n",
              "      <td>North York</td>\n",
              "      <td>Parkwoods</td>\n",
              "    </tr>\n",
              "    <tr>\n",
              "      <th>1</th>\n",
              "      <td>M4A</td>\n",
              "      <td>North York</td>\n",
              "      <td>Victoria Village</td>\n",
              "    </tr>\n",
              "    <tr>\n",
              "      <th>2</th>\n",
              "      <td>M5A</td>\n",
              "      <td>Downtown Toronto</td>\n",
              "      <td>Regent Park, Harbourfront</td>\n",
              "    </tr>\n",
              "    <tr>\n",
              "      <th>3</th>\n",
              "      <td>M6A</td>\n",
              "      <td>North York</td>\n",
              "      <td>Lawrence Manor, Lawrence Heights</td>\n",
              "    </tr>\n",
              "    <tr>\n",
              "      <th>4</th>\n",
              "      <td>M7A</td>\n",
              "      <td>Downtown Toronto</td>\n",
              "      <td>Queen's Park, Ontario Provincial Government</td>\n",
              "    </tr>\n",
              "  </tbody>\n",
              "</table>\n",
              "</div>"
            ],
            "text/plain": [
              "  PostalCode           Borough                                 Neighborhood\n",
              "0        M3A        North York                                    Parkwoods\n",
              "1        M4A        North York                             Victoria Village\n",
              "2        M5A  Downtown Toronto                    Regent Park, Harbourfront\n",
              "3        M6A        North York             Lawrence Manor, Lawrence Heights\n",
              "4        M7A  Downtown Toronto  Queen's Park, Ontario Provincial Government"
            ]
          },
          "metadata": {
            "tags": []
          },
          "execution_count": 23
        }
      ]
    },
    {
      "cell_type": "code",
      "metadata": {
        "id": "rGZIxQMfPHQW",
        "colab_type": "code",
        "outputId": "b83d735c-cd91-4277-f1d0-a1356aa18c86",
        "colab": {
          "base_uri": "https://localhost:8080/",
          "height": 34
        }
      },
      "source": [
        "# Printing the shape of the toronto dataframe\n",
        "print(f'The shape of the DataFrame is {toronto_df.shape}')"
      ],
      "execution_count": 7,
      "outputs": [
        {
          "output_type": "stream",
          "text": [
            "The shape of the DataFrame is (103, 3)\n"
          ],
          "name": "stdout"
        }
      ]
    },
    {
      "cell_type": "markdown",
      "metadata": {
        "id": "z34QH25UTsVy",
        "colab_type": "text"
      },
      "source": [
        "# 2. Adding the geospatial data to the DataFrame"
      ]
    },
    {
      "cell_type": "markdown",
      "metadata": {
        "id": "BItSdSTxUiEu",
        "colab_type": "text"
      },
      "source": [
        "I tried using the geocoder package, and it was very unreliable and it did not work as expected. So, I'll use the provided csv file instead."
      ]
    },
    {
      "cell_type": "code",
      "metadata": {
        "id": "IWe_YL-EQutC",
        "colab_type": "code",
        "colab": {
          "base_uri": "https://localhost:8080/",
          "height": 195
        },
        "outputId": "81b3b891-c627-4a6f-9935-0d52d4258802"
      },
      "source": [
        "# Reading the coordinates csv file into a pandas dataframe\n",
        "coordinates = pd.read_csv('Geospatial_Coordinates.csv', names=['PostalCode', 'Latitude', 'Longitude'])[1:]\n",
        "coordinates.head()"
      ],
      "execution_count": 28,
      "outputs": [
        {
          "output_type": "execute_result",
          "data": {
            "text/html": [
              "<div>\n",
              "<style scoped>\n",
              "    .dataframe tbody tr th:only-of-type {\n",
              "        vertical-align: middle;\n",
              "    }\n",
              "\n",
              "    .dataframe tbody tr th {\n",
              "        vertical-align: top;\n",
              "    }\n",
              "\n",
              "    .dataframe thead th {\n",
              "        text-align: right;\n",
              "    }\n",
              "</style>\n",
              "<table border=\"1\" class=\"dataframe\">\n",
              "  <thead>\n",
              "    <tr style=\"text-align: right;\">\n",
              "      <th></th>\n",
              "      <th>PostalCode</th>\n",
              "      <th>Latitude</th>\n",
              "      <th>Longitude</th>\n",
              "    </tr>\n",
              "  </thead>\n",
              "  <tbody>\n",
              "    <tr>\n",
              "      <th>1</th>\n",
              "      <td>M1B</td>\n",
              "      <td>43.8066863</td>\n",
              "      <td>-79.1943534</td>\n",
              "    </tr>\n",
              "    <tr>\n",
              "      <th>2</th>\n",
              "      <td>M1C</td>\n",
              "      <td>43.7845351</td>\n",
              "      <td>-79.1604971</td>\n",
              "    </tr>\n",
              "    <tr>\n",
              "      <th>3</th>\n",
              "      <td>M1E</td>\n",
              "      <td>43.7635726</td>\n",
              "      <td>-79.1887115</td>\n",
              "    </tr>\n",
              "    <tr>\n",
              "      <th>4</th>\n",
              "      <td>M1G</td>\n",
              "      <td>43.7709921</td>\n",
              "      <td>-79.2169174</td>\n",
              "    </tr>\n",
              "    <tr>\n",
              "      <th>5</th>\n",
              "      <td>M1H</td>\n",
              "      <td>43.773136</td>\n",
              "      <td>-79.2394761</td>\n",
              "    </tr>\n",
              "  </tbody>\n",
              "</table>\n",
              "</div>"
            ],
            "text/plain": [
              "  PostalCode    Latitude    Longitude\n",
              "1        M1B  43.8066863  -79.1943534\n",
              "2        M1C  43.7845351  -79.1604971\n",
              "3        M1E  43.7635726  -79.1887115\n",
              "4        M1G  43.7709921  -79.2169174\n",
              "5        M1H   43.773136  -79.2394761"
            ]
          },
          "metadata": {
            "tags": []
          },
          "execution_count": 28
        }
      ]
    },
    {
      "cell_type": "code",
      "metadata": {
        "id": "7605D6HDUQlW",
        "colab_type": "code",
        "colab": {
          "base_uri": "https://localhost:8080/",
          "height": 212
        },
        "outputId": "54f32f91-813f-4b5f-f429-a88f1af7961d"
      },
      "source": [
        "# Adding the Latitude and Longitude values for each entry in our toronto_df dataframe\n",
        "toronto_df['Latitude'] = ''\n",
        "toronto_df['Longitude'] = ''\n",
        "\n",
        "# Adding the Latitude and Longitude to each of the toronto_df's entries\n",
        "for i in range(len(toronto_df)):\n",
        "  toronto_df.loc[i, ['Latitude', 'Longitude']] = coordinates[coordinates['PostalCode'] == toronto_df.loc[i, 'PostalCode']][['Latitude', 'Longitude']].values\n",
        "\n",
        "\n",
        "# Printing the top 5 elements of the DataFrame\n",
        "print(f'The length of the dataframe is {len(toronto_df)}')\n",
        "toronto_df.head()"
      ],
      "execution_count": 51,
      "outputs": [
        {
          "output_type": "stream",
          "text": [
            "The length of the dataframe is 103\n"
          ],
          "name": "stdout"
        },
        {
          "output_type": "execute_result",
          "data": {
            "text/html": [
              "<div>\n",
              "<style scoped>\n",
              "    .dataframe tbody tr th:only-of-type {\n",
              "        vertical-align: middle;\n",
              "    }\n",
              "\n",
              "    .dataframe tbody tr th {\n",
              "        vertical-align: top;\n",
              "    }\n",
              "\n",
              "    .dataframe thead th {\n",
              "        text-align: right;\n",
              "    }\n",
              "</style>\n",
              "<table border=\"1\" class=\"dataframe\">\n",
              "  <thead>\n",
              "    <tr style=\"text-align: right;\">\n",
              "      <th></th>\n",
              "      <th>PostalCode</th>\n",
              "      <th>Borough</th>\n",
              "      <th>Neighborhood</th>\n",
              "      <th>Latitude</th>\n",
              "      <th>Longitude</th>\n",
              "    </tr>\n",
              "  </thead>\n",
              "  <tbody>\n",
              "    <tr>\n",
              "      <th>0</th>\n",
              "      <td>M3A</td>\n",
              "      <td>North York</td>\n",
              "      <td>Parkwoods</td>\n",
              "      <td>43.7532586</td>\n",
              "      <td>-79.3296565</td>\n",
              "    </tr>\n",
              "    <tr>\n",
              "      <th>1</th>\n",
              "      <td>M4A</td>\n",
              "      <td>North York</td>\n",
              "      <td>Victoria Village</td>\n",
              "      <td>43.7258823</td>\n",
              "      <td>-79.3155716</td>\n",
              "    </tr>\n",
              "    <tr>\n",
              "      <th>2</th>\n",
              "      <td>M5A</td>\n",
              "      <td>Downtown Toronto</td>\n",
              "      <td>Regent Park, Harbourfront</td>\n",
              "      <td>43.6542599</td>\n",
              "      <td>-79.3606359</td>\n",
              "    </tr>\n",
              "    <tr>\n",
              "      <th>3</th>\n",
              "      <td>M6A</td>\n",
              "      <td>North York</td>\n",
              "      <td>Lawrence Manor, Lawrence Heights</td>\n",
              "      <td>43.718518</td>\n",
              "      <td>-79.4647633</td>\n",
              "    </tr>\n",
              "    <tr>\n",
              "      <th>4</th>\n",
              "      <td>M7A</td>\n",
              "      <td>Downtown Toronto</td>\n",
              "      <td>Queen's Park, Ontario Provincial Government</td>\n",
              "      <td>43.6623015</td>\n",
              "      <td>-79.3894938</td>\n",
              "    </tr>\n",
              "  </tbody>\n",
              "</table>\n",
              "</div>"
            ],
            "text/plain": [
              "  PostalCode           Borough  ...    Latitude    Longitude\n",
              "0        M3A        North York  ...  43.7532586  -79.3296565\n",
              "1        M4A        North York  ...  43.7258823  -79.3155716\n",
              "2        M5A  Downtown Toronto  ...  43.6542599  -79.3606359\n",
              "3        M6A        North York  ...   43.718518  -79.4647633\n",
              "4        M7A  Downtown Toronto  ...  43.6623015  -79.3894938\n",
              "\n",
              "[5 rows x 5 columns]"
            ]
          },
          "metadata": {
            "tags": []
          },
          "execution_count": 51
        }
      ]
    }
  ]
}